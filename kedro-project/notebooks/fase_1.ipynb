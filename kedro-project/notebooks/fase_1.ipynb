{
 "cells": [
  {
   "cell_type": "markdown",
   "metadata": {},
   "source": [
    "Libros GoodReads"
   ]
  },
  {
   "cell_type": "markdown",
   "metadata": {},
   "source": [
    "Fase 1: Business Understanding"
   ]
  },
  {
   "cell_type": "markdown",
   "metadata": {},
   "source": [
    "Hemos recolectado un dataframe de Goodreads en donde contiene la información de diferentes libros, con su respectivo autor, el rating, etc. Dataframe: https://www.kaggle.com/datasets/ishikajohari/best-books-10k-multi-genre-data\n",
    "\n",
    "Libros mejor valorados: Identificar los libros con las mejores calificaciones promedio.\n",
    "Autores más populares: Ver quiénes tienen más libros o mejores calificaciones.\n",
    "Editoriales con mayor éxito: Analizar qué editoriales tienen libros mejor valorados o con más reseñas\n",
    "\n",
    "Tarea de regresión:\n",
    "\n",
    "Predecir el rating de los libros para optimizar las recomendaciones.\n",
    "\n",
    "El objetivo principal es realizar un sistema de recomendación de libros para mejorar la experiencia de usuario al buscar algun tipo de libro basado en las preferencias que quizá pueda tener el usuario. Este sistema tomará en cuenta las características mencionadas (calificación, reseñas, etc.) para hacer recomendaciones personalizadas."
   ]
  },
  {
   "cell_type": "markdown",
   "metadata": {},
   "source": [
    "Las variables claves de este modelo son:  \n",
    "\n",
    "Genres\n",
    "\n",
    "Avg_Rating\n",
    "\n",
    "Num_ratings\n",
    "\n",
    "Author"
   ]
  }
 ],
 "metadata": {
  "language_info": {
   "name": "python"
  }
 },
 "nbformat": 4,
 "nbformat_minor": 2
}
