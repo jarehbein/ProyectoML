{
 "cells": [
  {
   "cell_type": "markdown",
   "metadata": {},
   "source": [
    "Fase 4: Modeling"
   ]
  },
  {
   "cell_type": "code",
   "execution_count": null,
   "metadata": {
    "vscode": {
     "languageId": "plaintext"
    }
   },
   "outputs": [],
   "source": [
    "csv_file_path = 'data/goodreads_data.csv'"
   ]
  },
  {
   "cell_type": "code",
   "execution_count": null,
   "metadata": {
    "vscode": {
     "languageId": "plaintext"
    }
   },
   "outputs": [],
   "source": [
    "if not os.path.exists(csv_file_path):\n",
    "    kaggle.api.dataset_download_files('jishikajohari/best-books-10k-multi-genre-data', path='data/', unzip=True)"
   ]
  },
  {
   "cell_type": "code",
   "execution_count": null,
   "metadata": {
    "vscode": {
     "languageId": "plaintext"
    }
   },
   "outputs": [],
   "source": [
    "df = pd.read_csv(csv_file_path, delimiter=',', on_bad_lines='skip')"
   ]
  },
  {
   "cell_type": "code",
   "execution_count": null,
   "metadata": {
    "vscode": {
     "languageId": "plaintext"
    }
   },
   "outputs": [],
   "source": [
    "import pandas as pd\n",
    "import numpy as np\n",
    "from sklearn.model_selection import train_test_split\n",
    "from sklearn.pipeline import Pipeline\n",
    "from sklearn.compose import ColumnTransformer\n",
    "from sklearn.impute import SimpleImputer\n",
    "from sklearn.preprocessing import StandardScaler, OneHotEncoder\n",
    "from sklearn.ensemble import RandomForestRegressor\n",
    "from sklearn.linear_model import LinearRegression\n",
    "from sklearn.svm import SVR\n",
    "from sklearn.metrics import mean_squared_error, r2_score"
   ]
  },
  {
   "cell_type": "code",
   "execution_count": null,
   "metadata": {
    "vscode": {
     "languageId": "plaintext"
    }
   },
   "outputs": [],
   "source": [
    "# Convertir listas en cadenas separadas por comas para 'Genres' y 'Author'\n",
    "df1['Genres'] = df1['Genres'].apply(lambda x: ', '.join(x) if isinstance(x, list) else x)\n",
    "df1['Author'] = df1['Author'].apply(lambda x: ', '.join(x) if isinstance(x, list) else x)\n",
    "\n",
    "# Aplicar OneHotEncoder\n",
    "categorical_cols = ['Author', 'Genres']\n",
    "encoder = OneHotEncoder(sparse=False, handle_unknown='ignore')\n",
    "encoded_data = encoder.fit_transform(df1[categorical_cols])\n",
    "encoded_df = pd.DataFrame(encoded_data, columns=encoder.get_feature_names_out(categorical_cols))\n",
    "\n",
    "# Unir el DataFrame original con el DataFrame de variables codificadas\n",
    "df_encoded = pd.concat([df1.reset_index(drop=True), encoded_df.reset_index(drop=True)], axis=1)\n",
    "df_encoded = df_encoded.drop(columns=categorical_cols)\n",
    "\n",
    "# Definir las características y el objetivo\n",
    "X = df_encoded.drop('Avg_Rating', axis=1)  # Características\n",
    "y = df_encoded['Avg_Rating']  # Objetivo\n",
    "\n",
    "# Dividir el conjunto de datos en entrenamiento y prueba\n",
    "X_train, X_test, y_train, y_test = train_test_split(X, y, test_size=0.2, random_state=42)\n",
    "\n",
    "# Entrenar el modelo de regresión lineal\n",
    "model = LinearRegression()\n",
    "model.fit(X_train, y_train)\n",
    "\n",
    "# Hacer predicciones\n",
    "y_pred = model.predict(X_test)\n",
    "\n",
    "# Evaluar el modelo\n",
    "mse = mean_squared_error(y_test, y_pred)\n",
    "rmse = mse ** 0.5\n",
    "print(f'RMSE: {rmse}')"
   ]
  },
  {
   "cell_type": "code",
   "execution_count": null,
   "metadata": {
    "vscode": {
     "languageId": "plaintext"
    }
   },
   "outputs": [],
   "source": [
    "# Seleccionar las columnas categóricas\n",
    "categorical_cols = ['Author', 'Genres']\n",
    "# Aplicar OneHotEncoder y transformar los datos\n",
    "encoder = OneHotEncoder(sparse=False, handle_unknown='ignore')\n",
    "encoded_data = encoder.fit_transform(df1[categorical_cols])\n",
    "\n",
    "# Convertir el resultado en un DataFrame y agregar los nombres de las nuevas columnas\n",
    "encoded_df = pd.DataFrame(encoded_data, columns=encoder.get_feature_names_out(categorical_cols))\n",
    "\n",
    "# Unir el DataFrame original con el DataFrame de variables codificadas\n",
    "df_encoded = pd.concat([df1.reset_index(drop=True), encoded_df], axis=1)\n",
    "\n",
    "# Eliminar las columnas categóricas originales si no se necesitan\n",
    "df_encoded = df_encoded.drop(columns=categorical_cols)\n",
    "\n",
    "# Preparar los datos para el modelo\n",
    "X = df_encoded.drop(columns=['Avg_Rating'])  # Características\n",
    "y = df_encoded['Avg_Rating']  # Variable objetivo\n",
    "\n",
    "# Dividir el conjunto de datos en entrenamiento y prueba\n",
    "X_train, X_test, y_train, y_test = train_test_split(X, y, test_size=0.2, random_state=42)\n",
    "\n",
    "# Escalar las características (opcional)\n",
    "scaler = StandardScaler()\n",
    "X_train = scaler.fit_transform(X_train)\n",
    "X_test = scaler.transform(X_test)\n",
    "\n",
    "# Crear y entrenar el modelo\n",
    "model = RandomForestRegressor(n_estimators=100, random_state=42)\n",
    "model.fit(X_train, y_train)\n",
    "\n",
    "# Hacer predicciones\n",
    "y_pred = model.predict(X_test)\n",
    "\n",
    "# Evaluar el modelo\n",
    "mse = mean_squared_error(y_test, y_pred)\n",
    "r2 = r2_score(y_test, y_pred)\n",
    "\n",
    "print(f'Mean Squared Error: {mse}')\n",
    "print(f'R² Score: {r2}')"
   ]
  },
  {
   "cell_type": "code",
   "execution_count": null,
   "metadata": {
    "vscode": {
     "languageId": "plaintext"
    }
   },
   "outputs": [],
   "source": [
    "df1.shape"
   ]
  },
  {
   "cell_type": "code",
   "execution_count": null,
   "metadata": {
    "vscode": {
     "languageId": "plaintext"
    }
   },
   "outputs": [],
   "source": [
    "# Suponiendo que ya tienes tus datos preparados en X e y\n",
    "model = LinearRegression()\n",
    "model.fit(X_train, y_train)"
   ]
  },
  {
   "cell_type": "code",
   "execution_count": null,
   "metadata": {
    "vscode": {
     "languageId": "plaintext"
    }
   },
   "outputs": [],
   "source": [
    "# Mostrar las columnas del DataFrame df1\n",
    "print(df1.columns)"
   ]
  },
  {
   "cell_type": "markdown",
   "metadata": {},
   "source": [
    "Modelo de Regresión Lineal"
   ]
  },
  {
   "cell_type": "code",
   "execution_count": null,
   "metadata": {
    "vscode": {
     "languageId": "plaintext"
    }
   },
   "outputs": [],
   "source": [
    "from sklearn.linear_model import LinearRegression\n",
    "from sklearn.metrics import mean_squared_error, r2_score\n",
    "\n",
    "# Entrenamiento del modelo de Regresión Lineal\n",
    "linear_model = LinearRegression()\n",
    "linear_model.fit(X_train_processed, y_train)\n",
    "\n",
    "# Predicción\n",
    "y_pred_linear = linear_model.predict(X_test_processed)\n",
    "\n",
    "# Evaluación del modelo\n",
    "mse_linear = mean_squared_error(y_test, y_pred_linear)\n",
    "r2_linear = r2_score(y_test, y_pred_linear)\n",
    "\n",
    "print(f'Error Cuadrático Medio (MSE) con Regresión Lineal: {mse_linear}')\n",
    "print(f'Coeficiente de Determinación (R²) con Regresión Lineal: {r2_linear}')"
   ]
  },
  {
   "cell_type": "markdown",
   "metadata": {},
   "source": [
    "En este caso, observamos que el MSE es bajo, lo cual es positivo, ya que indica que el error en las predicciones es pequeño.\n",
    "Sin embargo, el R² negativo (-0.15) indica que el modelo no está capturando bien la variación en los datos.\n",
    "Esto sugiere que la Regresión Lineal no es el modelo más adecuado para este problema, ya que no parece haber una relación lineal fuerte entre las características de los libros y su calificación.\n",
    "En este punto, sería conveniente explorar otros modelos más complejos que puedan capturar mejor las relaciones no lineales."
   ]
  },
  {
   "cell_type": "markdown",
   "metadata": {},
   "source": [
    "Modelo Random Forest"
   ]
  },
  {
   "cell_type": "code",
   "execution_count": null,
   "metadata": {
    "vscode": {
     "languageId": "plaintext"
    }
   },
   "outputs": [],
   "source": [
    "from sklearn.ensemble import RandomForestRegressor\n",
    "\n",
    "# Entrenamiento del modelo de Random Forest\n",
    "rf_model = RandomForestRegressor(n_estimators=100, random_state=42)\n",
    "rf_model.fit(X_train_processed, y_train)\n",
    "\n",
    "# Predicción\n",
    "y_pred_rf = rf_model.predict(X_test_processed)\n",
    "\n",
    "# Evaluación del modelo\n",
    "mse_rf = mean_squared_error(y_test, y_pred_rf)\n",
    "r2_rf = r2_score(y_test, y_pred_rf)\n",
    "\n",
    "print(f'Error Cuadrático Medio (MSE) con Random Forest: {mse_rf}')\n",
    "print(f'Coeficiente de Determinación (R²) con Random Forest: {r2_rf}')"
   ]
  },
  {
   "cell_type": "markdown",
   "metadata": {},
   "source": [
    "En comparación con el modelo de Regresión Lineal, Random Forest ha logrado un MSE menor, lo que indica que las predicciones de este modelo son más precisas.\n",
    "Además, el valor de R² es positivo (0.1166), lo que significa que Random Forest explica mejor la variación en los datos que el modelo de Regresión Lineal (que tenía un R² negativo).\n",
    "Esto refuerza la idea de que Random Forest es más adecuado para este problema, ya que es capaz de capturar las relaciones no lineales entre las características de los libros y su calificación promedio."
   ]
  },
  {
   "cell_type": "markdown",
   "metadata": {},
   "source": [
    "Modelo Gradient Boosting"
   ]
  },
  {
   "cell_type": "code",
   "execution_count": null,
   "metadata": {
    "vscode": {
     "languageId": "plaintext"
    }
   },
   "outputs": [],
   "source": [
    "from sklearn.ensemble import GradientBoostingRegressor\n",
    "\n",
    "# Entrenamiento del modelo de Gradient Boosting\n",
    "gb_model = GradientBoostingRegressor(n_estimators=100, random_state=42)\n",
    "gb_model.fit(X_train_processed, y_train)\n",
    "\n",
    "# Predicción\n",
    "y_pred_gb = gb_model.predict(X_test_processed)\n",
    "\n",
    "# Evaluación del modelo\n",
    "mse_gb = mean_squared_error(y_test, y_pred_gb)\n",
    "r2_gb = r2_score(y_test, y_pred_gb)\n",
    "\n",
    "print(f'Error Cuadrático Medio (MSE) con Gradient Boosting: {mse_gb}')\n",
    "print(f'Coeficiente de Determinación (R²) con Gradient Boosting: {r2_gb}')"
   ]
  },
  {
   "cell_type": "markdown",
   "metadata": {},
   "source": [
    "En comparación con otros modelos como Random Forest y Regresión Lineal, Gradient Boosting ofrece un MSE ligeramente mayor y un R² positivo (0.0766), lo que indica que captura mejor las relaciones no lineales en los datos. Sin embargo, el desempeño general es inferior al modelo de Random Forest (MSE más bajo y R² mayor), lo que sugiere que, aunque Gradient Boosting es poderoso, en este caso no mejora significativamente los resultados.\n",
    "Una posible explicación es que, aunque Gradient Boosting es eficiente en muchos casos, Random Forest maneja mejor las interacciones complejas en este conjunto de datos específico."
   ]
  },
  {
   "cell_type": "markdown",
   "metadata": {},
   "source": [
    "Evaluación de los modelos"
   ]
  },
  {
   "cell_type": "markdown",
   "metadata": {},
   "source": [
    "Elegimos el modelo de random forest, ya que nos ofrece un mejor desempeño, ya que tiene el menor MSE y el mayor R2."
   ]
  },
  {
   "cell_type": "code",
   "execution_count": null,
   "metadata": {
    "vscode": {
     "languageId": "plaintext"
    }
   },
   "outputs": [],
   "source": [
    "print(f'Resultados de los Modelos:')\n",
    "print(f'Regresión Lineal: MSE = {mse_linear}, R² = {r2_linear}')\n",
    "print(f'Random Forest: MSE = {mse_rf}, R² = {r2_rf}')\n",
    "print(f'Gradient Boosting: MSE = {mse_gb}, R² = {r2_gb}')"
   ]
  },
  {
   "cell_type": "markdown",
   "metadata": {},
   "source": [
    "(Modelo interesante)"
   ]
  },
  {
   "cell_type": "markdown",
   "metadata": {},
   "source": [
    "Random Forest"
   ]
  },
  {
   "cell_type": "markdown",
   "metadata": {},
   "source": [
    "Modelo de regresión para predecir el numero de reseñas de un libro basandose en diferentes caracteristicas."
   ]
  }
 ],
 "metadata": {
  "language_info": {
   "name": "python"
  }
 },
 "nbformat": 4,
 "nbformat_minor": 2
}
